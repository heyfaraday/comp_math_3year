{
 "cells": [
  {
   "cell_type": "code",
   "execution_count": 1,
   "metadata": {
    "collapsed": true,
    "deletable": true,
    "editable": true
   },
   "outputs": [],
   "source": [
    "import numpy as np"
   ]
  },
  {
   "cell_type": "code",
   "execution_count": 2,
   "metadata": {
    "collapsed": true,
    "deletable": true,
    "editable": true
   },
   "outputs": [],
   "source": [
    "year = np.array([1910, 1920, 1930, 1940, 1950, 1960, 1970, 1980, 1990, 2000])\n",
    "population = np.array([92228496, \n",
    "                      106021537,\n",
    "                      123202624,\n",
    "                      132164569,\n",
    "                      151325798,\n",
    "                      179323175,\n",
    "                      203211926,\n",
    "                      226545805,\n",
    "                      248709873,\n",
    "                      281421906])\n",
    "\n",
    "def modify(in_):\n",
    "    return ((in_ - 1955) / 45.0)\n",
    "\n",
    "year = modify(year)"
   ]
  },
  {
   "cell_type": "code",
   "execution_count": 3,
   "metadata": {
    "collapsed": true,
    "deletable": true,
    "editable": true
   },
   "outputs": [],
   "source": [
    "def dot_product_1(i, j, array):\n",
    "    current_sum = 0.0;\n",
    "    \n",
    "    for k in range(0, array.size):\n",
    "        current_sum += array[k]**i * array[k]**j\n",
    "    \n",
    "    return current_sum\n",
    "\n",
    "def dot_product_1_for_y(i, first_array, second_array):\n",
    "    current_sum = 0.0;\n",
    "    \n",
    "    for k in range(0, first_array.size):\n",
    "        current_sum += first_array[k]**i * second_array[k]\n",
    "    \n",
    "    return current_sum"
   ]
  },
  {
   "cell_type": "code",
   "execution_count": 4,
   "metadata": {
    "collapsed": true,
    "deletable": true,
    "editable": true
   },
   "outputs": [],
   "source": [
    "N = 4"
   ]
  },
  {
   "cell_type": "code",
   "execution_count": 5,
   "metadata": {
    "collapsed": true,
    "deletable": true,
    "editable": true
   },
   "outputs": [],
   "source": [
    "A = np.empty([N + 1, N + 1])"
   ]
  },
  {
   "cell_type": "code",
   "execution_count": 6,
   "metadata": {
    "collapsed": true,
    "deletable": true,
    "editable": true
   },
   "outputs": [],
   "source": [
    "for i in range(0, N + 1):\n",
    "    for j in range(0, N + 1):\n",
    "        A[i][j] = dot_product_1(i, j, year)"
   ]
  },
  {
   "cell_type": "code",
   "execution_count": 7,
   "metadata": {
    "collapsed": false,
    "deletable": true,
    "editable": true
   },
   "outputs": [
    {
     "data": {
      "text/plain": [
       "array([[  1.00000000e+01,   3.33066907e-16,   4.07407407e+00,\n",
       "         -2.22044605e-16,   2.94741655e+00],\n",
       "       [  3.33066907e-16,   4.07407407e+00,  -2.22044605e-16,\n",
       "          2.94741655e+00,   0.00000000e+00],\n",
       "       [  4.07407407e+00,  -2.22044605e-16,   2.94741655e+00,\n",
       "          0.00000000e+00,   2.50430433e+00],\n",
       "       [ -2.22044605e-16,   2.94741655e+00,   0.00000000e+00,\n",
       "          2.50430433e+00,   0.00000000e+00],\n",
       "       [  2.94741655e+00,   0.00000000e+00,   2.50430433e+00,\n",
       "          0.00000000e+00,   2.28629303e+00]])"
      ]
     },
     "execution_count": 7,
     "metadata": {},
     "output_type": "execute_result"
    }
   ],
   "source": [
    "A"
   ]
  },
  {
   "cell_type": "code",
   "execution_count": 8,
   "metadata": {
    "collapsed": true,
    "deletable": true,
    "editable": true
   },
   "outputs": [],
   "source": [
    "right_part = np.empty([N + 1])"
   ]
  },
  {
   "cell_type": "code",
   "execution_count": 9,
   "metadata": {
    "collapsed": true,
    "deletable": true,
    "editable": true
   },
   "outputs": [],
   "source": [
    "for i in range(0, N + 1):\n",
    "    right_part[i] = dot_product_1_for_y(i, year, population)"
   ]
  },
  {
   "cell_type": "code",
   "execution_count": 10,
   "metadata": {
    "collapsed": false,
    "deletable": true,
    "editable": true
   },
   "outputs": [
    {
     "data": {
      "text/plain": [
       "array([  1.74415571e+09,   3.84379377e+08,   7.37534195e+08,\n",
       "         2.76719162e+08,   5.40972309e+08])"
      ]
     },
     "execution_count": 10,
     "metadata": {},
     "output_type": "execute_result"
    }
   ],
   "source": [
    "right_part"
   ]
  },
  {
   "cell_type": "code",
   "execution_count": 11,
   "metadata": {
    "collapsed": true,
    "deletable": true,
    "editable": true
   },
   "outputs": [],
   "source": [
    "Answer = np.linalg.inv(A).dot(right_part)"
   ]
  },
  {
   "cell_type": "code",
   "execution_count": 12,
   "metadata": {
    "collapsed": true,
    "deletable": true,
    "editable": true
   },
   "outputs": [],
   "source": [
    "answer_for_initial_x = np.array([0., 0., 0., 0., 0., 0., 0., 0., 0., 0.])\n",
    "for i in range(0, N + 1):\n",
    "    answer_for_initial_x += Answer[i] * year ** i"
   ]
  },
  {
   "cell_type": "code",
   "execution_count": 13,
   "metadata": {
    "collapsed": false,
    "deletable": true,
    "editable": true
   },
   "outputs": [
    {
     "data": {
      "text/plain": [
       "array([  9.30679111e+07,   1.05341043e+08,   1.19482661e+08,\n",
       "         1.35946967e+08,   1.54956355e+08,   1.76501416e+08,\n",
       "         2.00340936e+08,   2.26001897e+08,   2.52779476e+08,\n",
       "         2.79737046e+08])"
      ]
     },
     "execution_count": 13,
     "metadata": {},
     "output_type": "execute_result"
    }
   ],
   "source": [
    "answer_for_initial_x"
   ]
  },
  {
   "cell_type": "code",
   "execution_count": 14,
   "metadata": {
    "collapsed": false,
    "deletable": true,
    "editable": true
   },
   "outputs": [
    {
     "data": {
      "text/plain": [
       "array([ 92228496, 106021537, 123202624, 132164569, 151325798, 179323175,\n",
       "       203211926, 226545805, 248709873, 281421906])"
      ]
     },
     "execution_count": 14,
     "metadata": {},
     "output_type": "execute_result"
    }
   ],
   "source": [
    "population"
   ]
  },
  {
   "cell_type": "code",
   "execution_count": 15,
   "metadata": {
    "collapsed": true,
    "deletable": true,
    "editable": true
   },
   "outputs": [],
   "source": [
    "def answer(x, answer_for_system):\n",
    "    current_sum = 0.\n",
    "    \n",
    "    for i in range(0, N + 1):\n",
    "        current_sum += answer_for_system[i] * x ** i\n",
    "        \n",
    "    return current_sum"
   ]
  },
  {
   "cell_type": "code",
   "execution_count": 16,
   "metadata": {
    "collapsed": false,
    "deletable": true,
    "editable": true
   },
   "outputs": [
    {
     "name": "stdout",
     "output_type": "stream",
     "text": [
      "Answer for problem: \n",
      "305706175.5\n"
     ]
    }
   ],
   "source": [
    "print(\"Answer for problem: \")\n",
    "print(answer(modify(2010), Answer))"
   ]
  },
  {
   "cell_type": "code",
   "execution_count": 17,
   "metadata": {
    "collapsed": false,
    "deletable": true,
    "editable": true
   },
   "outputs": [
    {
     "data": {
      "image/png": "[encoded data removed]",
      "text/plain": [
       "<matplotlib.figure.Figure at 0x1156604d0>"
      ]
     },
     "metadata": {},
     "output_type": "display_data"
    }
   ],
   "source": [
    "import matplotlib.pyplot as plt\n",
    "\n",
    "import seaborn as sns\n",
    "sns.set_style(\"whitegrid\")\n",
    "\n",
    "plt.figure(figsize=(10, 10))\n",
    "t = np.arange(-5, 5, 0.2)\n",
    "y = np.array([answer(xi, Answer) for xi in t])\n",
    "\n",
    "plt.plot(year, population, 'bs')\n",
    "plt.plot(t, y)\n",
    "plt.show()"
   ]
  }
 ],
 "metadata": {
  "kernelspec": {
   "display_name": "Python 2",
   "language": "python",
   "name": "python2"
  },
  "language_info": {
   "codemirror_mode": {
    "name": "ipython",
    "version": 2
   },
   "file_extension": ".py",
   "mimetype": "text/x-python",
   "name": "python",
   "nbconvert_exporter": "python",
   "pygments_lexer": "ipython2",
   "version": "2.7.14"
  }
 },
 "nbformat": 4,
 "nbformat_minor": 2
}
