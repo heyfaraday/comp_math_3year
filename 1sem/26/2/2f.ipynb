{
 "cells": [
  {
   "cell_type": "code",
   "execution_count": 1,
   "metadata": {
    "collapsed": true,
    "deletable": true,
    "editable": true
   },
   "outputs": [],
   "source": [
    "import numpy as np"
   ]
  },
  {
   "cell_type": "code",
   "execution_count": 2,
   "metadata": {
    "collapsed": true,
    "deletable": true,
    "editable": true
   },
   "outputs": [],
   "source": [
    "def inv_jac(x):\n",
    "    a = np.array([[-1., np.sin(x[1])], [np.sin(1.0 - x[0]), -1]])\n",
    "    return - a / np.linalg.det(a)\n",
    "\n",
    "def f(x):\n",
    "    return np.array([x[0] - np.cos(x[1]) - 3, x[1] + np.cos(x[0] - 1) - 0.5])"
   ]
  },
  {
   "cell_type": "code",
   "execution_count": 3,
   "metadata": {
    "collapsed": false,
    "deletable": true,
    "editable": true
   },
   "outputs": [
    {
     "name": "stdout",
     "output_type": "stream",
     "text": [
      "Iter: \n",
      "1\n",
      "[ 3.34606872  1.23082624]\n",
      "Iter: \n",
      "2\n",
      "[ 3.35595086  1.20696878]\n",
      "Iter: \n",
      "3\n",
      "[ 3.35591174  1.20690682]\n",
      "Iter: \n",
      "4\n",
      "[ 3.35591174  1.20690682]\n"
     ]
    }
   ],
   "source": [
    "x_0 = np.array([1, 1])\n",
    "x_current = np.array([3, 1])\n",
    "\n",
    "N_iter = 4\n",
    "\n",
    "for i in range(1, N_iter + 1):\n",
    "    \n",
    "    print(\"Iter: \")\n",
    "    print(i)\n",
    "    \n",
    "    x_current = x_current - inv_jac(x_current).dot(f(x_current))\n",
    "    \n",
    "    print(x_current)"
   ]
  }
 ],
 "metadata": {
  "kernelspec": {
   "display_name": "Python 2",
   "language": "python",
   "name": "python2"
  },
  "language_info": {
   "codemirror_mode": {
    "name": "ipython",
    "version": 2
   },
   "file_extension": ".py",
   "mimetype": "text/x-python",
   "name": "python",
   "nbconvert_exporter": "python",
   "pygments_lexer": "ipython2",
   "version": "2.7.14"
  }
 },
 "nbformat": 4,
 "nbformat_minor": 2
}
