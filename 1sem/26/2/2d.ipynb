{
 "cells": [
  {
   "cell_type": "code",
   "execution_count": 1,
   "metadata": {
    "collapsed": true,
    "deletable": true,
    "editable": true
   },
   "outputs": [],
   "source": [
    "import numpy as np"
   ]
  },
  {
   "cell_type": "code",
   "execution_count": 2,
   "metadata": {
    "collapsed": true,
    "deletable": true,
    "editable": true
   },
   "outputs": [],
   "source": [
    "def f(x):\n",
    "    return 2.0 * np.tan(x) - x / 2.0 + 1.0\n",
    "\n",
    "def der_f(x):\n",
    "    return 2.0 / np.square(np.cos(x)) - 1.0 / 2.0"
   ]
  },
  {
   "cell_type": "code",
   "execution_count": 3,
   "metadata": {
    "collapsed": false,
    "deletable": true,
    "editable": true
   },
   "outputs": [
    {
     "name": "stdout",
     "output_type": "stream",
     "text": [
      "Iter: \n",
      "1\n",
      "-0.577842400213\n",
      "Iter: \n",
      "2\n",
      "-0.571351312735\n",
      "Iter: \n",
      "3\n",
      "-0.571317903704\n",
      "Iter: \n",
      "4\n",
      "-0.571317902832\n"
     ]
    }
   ],
   "source": [
    "x0 = -0.66\n",
    "x_current = -0.66\n",
    "\n",
    "N_iter = 4\n",
    "\n",
    "for i in range(1, N_iter + 1):\n",
    "    \n",
    "    print(\"Iter: \")\n",
    "    print(i)\n",
    "    \n",
    "    x_current = x_current - f(x_current) / der_f(x_current)\n",
    "    \n",
    "    print(x_current)"
   ]
  }
 ],
 "metadata": {
  "kernelspec": {
   "display_name": "Python 2",
   "language": "python",
   "name": "python2"
  },
  "language_info": {
   "codemirror_mode": {
    "name": "ipython",
    "version": 2
   },
   "file_extension": ".py",
   "mimetype": "text/x-python",
   "name": "python",
   "nbconvert_exporter": "python",
   "pygments_lexer": "ipython2",
   "version": "2.7.14"
  }
 },
 "nbformat": 4,
 "nbformat_minor": 2
}
